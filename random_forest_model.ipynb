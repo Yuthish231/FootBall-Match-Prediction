{
 "cells": [
  {
   "cell_type": "markdown",
   "metadata": {},
   "source": [
    "# Random Forest Model for Match Prediction\n\n",
    "This notebook builds a Random Forest model to predict match results based on feature selection from the dataset."
   ]
  },
  {
   "cell_type": "code",
   "execution_count": null,
   "metadata": {},
   "outputs": [],
   "source": [
    "import pandas as pd\n",
    "from sklearn.model_selection import train_test_split\n",
    "from sklearn.ensemble import RandomForestClassifier\n",
    "from sklearn.metrics import accuracy_score, classification_report\n",
    "\n# Load dataset\n",
    "data = pd.read_csv('matches.csv')\n",
    "\n# Data preprocessing (target encoding, feature selection, handling missing values)\n",
    "data['result'] = data['result'].map({'W': 1, 'L': 0, 'D': 2})\n",
    "features = ['gf', 'ga', 'xg', 'xga', 'poss', 'sh', 'sot', 'dist']\n",
    "X = data[features]\n",
    "y = data['result']\n",
    "\n# Split dataset\n",
    "X_train, X_test, y_train, y_test = train_test_split(X, y, test_size=0.2, random_state=42)\n",
    "\n# Model training\n",
    "rf_model = RandomForestClassifier(random_state=42)\n",
    "rf_model.fit(X_train, y_train)\n",
    "\n# Predictions and evaluation\n",
    "y_pred = rf_model.predict(X_test)\n",
    "accuracy = accuracy_score(y_test, y_pred)\n",
    "print(f'Accuracy: {accuracy:.2f}')\n",
    "print(classification_report(y_test, y_pred))"
   ]
  }
 ],
 "metadata": {
  "kernelspec": {
   "display_name": "Python 3",
   "language": "python",
   "name": "python3"
  },
  "language_info": {
   "name": "python",
   "version": "3.8"
  }
 },
 "nbformat": 4,
 "nbformat_minor": 2
}
